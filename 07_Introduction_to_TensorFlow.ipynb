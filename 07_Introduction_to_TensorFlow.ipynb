{
 "cells": [
  {
   "cell_type": "markdown",
   "metadata": {},
   "source": [
    "# Lecture 7: Introduction to TensorFlow"
   ]
  },
  {
   "cell_type": "markdown",
   "metadata": {},
   "source": [
    "## グラフの構築\n",
    "### グラフを定義する"
   ]
  },
  {
   "cell_type": "code",
   "execution_count": 1,
   "metadata": {},
   "outputs": [],
   "source": [
    "import tensorflow as tf\n",
    "\n",
    "# バイアス作成: 値は0\n",
    "b = tf.Variable(tf.zeros((100, )))\n",
    "# 重み作成：値は-1～1のランダム\n",
    "W = tf.Variable(tf.random_uniform((784, 100), -1, 1))\n",
    "\n",
    "# プレースホルダーの作成\n",
    "x = tf.placeholder(tf.float32, (100, 784))\n",
    "\n",
    "# グラフの作成\n",
    "h = tf.nn.relu(tf.matmul(x, W) + b)"
   ]
  },
  {
   "cell_type": "markdown",
   "metadata": {},
   "source": [
    "上記プログラムは\n",
    "\n",
    "$h = ReLU(Wx + b)$\n",
    "\n",
    "の __式__ を示しているだけで、まだデータは流していない  \n",
    "なので`h`をprintしても値は出ない  \n",
    "なぜならば`x`はプレースホルダーで、実際の値ではないから"
   ]
  },
  {
   "cell_type": "code",
   "execution_count": 2,
   "metadata": {},
   "outputs": [
    {
     "data": {
      "text/plain": [
       "[<tf.Operation 'zeros' type=Const>,\n",
       " <tf.Operation 'Variable' type=VariableV2>,\n",
       " <tf.Operation 'Variable/Assign' type=Assign>,\n",
       " <tf.Operation 'Variable/read' type=Identity>,\n",
       " <tf.Operation 'random_uniform/shape' type=Const>,\n",
       " <tf.Operation 'random_uniform/min' type=Const>,\n",
       " <tf.Operation 'random_uniform/max' type=Const>,\n",
       " <tf.Operation 'random_uniform/RandomUniform' type=RandomUniform>,\n",
       " <tf.Operation 'random_uniform/sub' type=Sub>,\n",
       " <tf.Operation 'random_uniform/mul' type=Mul>,\n",
       " <tf.Operation 'random_uniform' type=Add>,\n",
       " <tf.Operation 'Variable_1' type=VariableV2>,\n",
       " <tf.Operation 'Variable_1/Assign' type=Assign>,\n",
       " <tf.Operation 'Variable_1/read' type=Identity>,\n",
       " <tf.Operation 'Placeholder' type=Placeholder>,\n",
       " <tf.Operation 'MatMul' type=MatMul>,\n",
       " <tf.Operation 'add' type=Add>,\n",
       " <tf.Operation 'Relu' type=Relu>]"
      ]
     },
     "execution_count": 2,
     "metadata": {},
     "output_type": "execute_result"
    }
   ],
   "source": [
    "# グラフの基礎となるTensorFlowのクラス一覧\n",
    "tf.get_default_graph().get_operations()"
   ]
  },
  {
   "cell_type": "markdown",
   "metadata": {},
   "source": [
    "### 出力を得る"
   ]
  },
  {
   "cell_type": "code",
   "execution_count": 3,
   "metadata": {},
   "outputs": [
    {
     "name": "stdout",
     "output_type": "stream",
     "text": [
      "WARNING:tensorflow:From /home/takamichi/.local/lib/python3.6/site-packages/tensorflow/python/util/tf_should_use.py:118: initialize_all_variables (from tensorflow.python.ops.variables) is deprecated and will be removed after 2017-03-02.\n",
      "Instructions for updating:\n",
      "Use `tf.global_variables_initializer` instead.\n"
     ]
    },
    {
     "data": {
      "text/plain": [
       "array([[ 0.       ,  2.280098 , 13.000938 , ...,  0.       ,  0.       ,\n",
       "        11.719851 ],\n",
       "       [ 0.       , 10.04598  ,  6.3292704, ...,  0.       ,  0.       ,\n",
       "         6.616385 ],\n",
       "       [ 0.       ,  0.       , 19.495707 , ...,  0.       ,  0.       ,\n",
       "        12.418323 ],\n",
       "       ...,\n",
       "       [ 0.       ,  0.       ,  7.4948545, ...,  0.       ,  0.       ,\n",
       "         6.2408695],\n",
       "       [ 0.       ,  0.       ,  8.761351 , ...,  0.       ,  0.       ,\n",
       "         8.105349 ],\n",
       "       [ 0.       ,  7.4930835, 12.824445 , ...,  0.       ,  0.       ,\n",
       "        13.709556 ]], dtype=float32)"
      ]
     },
     "execution_count": 3,
     "metadata": {},
     "output_type": "execute_result"
    }
   ],
   "source": [
    "import numpy as np\n",
    "\n",
    "# セッション作成\n",
    "sess = tf.Session()\n",
    "# WやbなどのVariableの初期化\n",
    "sess.run(tf.initialize_all_variables())\n",
    "# グラフを評価する=計算する\n",
    "sess.run(h, {x: np.random.rand(100, 784)})  # スライド間違えてる"
   ]
  },
  {
   "cell_type": "markdown",
   "metadata": {},
   "source": [
    "```python\n",
    "sess.run(fetch, feeds)\n",
    "```\n",
    "\n",
    "__fetch__: 構築したグラフのリスト  \n",
    "__feeds__: グラフに入力する具体的な値がマッピングされた辞書"
   ]
  },
  {
   "cell_type": "markdown",
   "metadata": {},
   "source": [
    "## 学習モデルを作る\n",
    "### lossについて"
   ]
  },
  {
   "cell_type": "markdown",
   "metadata": {},
   "source": [
    "サンプルコード\n",
    "```python\n",
    "prediction = tf.nn.softmax(...)  # ニューラルネットの出力\n",
    "label = tf.placeholder(tf.float32, [100, 10])\n",
    "\n",
    "# labelはonehotな行列なので、predictionと乗算すると、負例は0となり、正例のlossとなる\n",
    "cross_entropy = -tf.reduce_sum(label * tf.log(prediction), axis=1)\n",
    "\n",
    "# 最適化手法を定義\n",
    "train_step = tf.train.GradientDescentOptimizer(0.5).minimize(cross_entropy)  # lr=0.5\n",
    "```"
   ]
  },
  {
   "cell_type": "markdown",
   "metadata": {},
   "source": [
    "### モデルを学習させる"
   ]
  },
  {
   "cell_type": "markdown",
   "metadata": {},
   "source": [
    "サンプルコード\n",
    "```python\n",
    "sess = tf.Session()\n",
    "sess.run(tf.initialize_all_variables())\n",
    "\n",
    "# 1,000イテレーション学習する\n",
    "for  i in range(1000):\n",
    "    # データからバッチを取り出す\n",
    "    batch_x, batch_label = data.next_batch()\n",
    "    # バッチごとに最適化手法を走らせる\n",
    "    sess.run(train_step, feed_dict={\n",
    "            x: batch_x\n",
    "            label: batch_label\n",
    "        })\n",
    "```"
   ]
  },
  {
   "cell_type": "markdown",
   "metadata": {},
   "source": [
    "### 複数GPUでVariableを共有する場合"
   ]
  },
  {
   "cell_type": "code",
   "execution_count": 8,
   "metadata": {},
   "outputs": [],
   "source": [
    "# 悪い例: コードがごちゃる\n",
    "variable_dict = {\n",
    "    \"weight\": tf.Variable(tf.random_normal([784, 100]), name=\"weights\"),\n",
    "    \"biases\": tf.Variable(tf.zeros([100]), name=\"biases\")\n",
    "}"
   ]
  },
  {
   "cell_type": "markdown",
   "metadata": {},
   "source": [
    "名前空間の衝突を避けるために`tf.variable_scope`で定義されたスコープ内で`tf.get_variable`を使ってvariableを作成したりアクセスしたりする\n",
    "\n",
    "fooというスコープで、variable`v`を定義\n",
    "```python\n",
    "with tf.variable_scope(\"foo\"):\n",
    "    v = tf.get_variable(\"v\", shape=[1])\n",
    "```\n",
    "\n",
    "fooのスコープ内で`reuse=True`にしていると再利用可能\n",
    "\n",
    "```python\n",
    "with tf.variable_scope(\"foo\", reuse=True):\n",
    "    v1 = tf.get_variable(\"v\")\n",
    "```\n",
    "\n",
    "`reuse=Fales`だと、fooの中でvは`already exist`と怒られる\n",
    "```python\n",
    "with tf.variable_scope(\"foo\", reuse=False):\n",
    "    v1 = tf.get_variable(\"v\")\n",
    "```"
   ]
  },
  {
   "cell_type": "markdown",
   "metadata": {},
   "source": [
    "## モデル実装\n",
    "### 線形回帰モデル作成"
   ]
  },
  {
   "cell_type": "code",
   "execution_count": 12,
   "metadata": {},
   "outputs": [],
   "source": [
    "import matplotlib\n",
    "import matplotlib.pyplot as plt\n",
    "%matplotlib inline\n",
    "\n",
    "def generate_dataset():\n",
    "    \"\"\"\n",
    "    y = 2x + e から作られる\n",
    "    eは正規分布で定義される\n",
    "    \"\"\"\n",
    "    x_batch = np.linspace(-1, 1, 101)\n",
    "    y_batch = 2 * x_batch + np.random.randn(*x_batch.shape) * 0.3\n",
    "    return x_batch, y_batch "
   ]
  },
  {
   "cell_type": "code",
   "execution_count": 31,
   "metadata": {},
   "outputs": [],
   "source": [
    "def linear_regression():\n",
    "    # shapeにNoneを設定すると、バッチサイズに応じて動的に対応できる\n",
    "    x =  tf.placeholder(tf.float32, shape=(None, ), name='x')\n",
    "    y =  tf.placeholder(tf.float32, shape=(None, ), name='y')\n",
    "    \n",
    "    with tf.variable_scope(\"lreg\", reuse=True) as scope:\n",
    "        w = tf.Variable(np.random.normal(), name='W')\n",
    "        y_pred = tf.multiply(w, x)  # mulはv0.xのもので、v1.0以上では廃止\n",
    "        \n",
    "        loss = tf.reduce_mean(tf.square(y_pred - y))\n",
    "    return x, y, y_pred, loss"
   ]
  },
  {
   "cell_type": "code",
   "execution_count": 32,
   "metadata": {},
   "outputs": [],
   "source": [
    "def run():\n",
    "    x_batch, y_batch = generate_dataset()\n",
    "    \n",
    "    x, y, y_pred, loss = linear_regression()\n",
    "    optimizer = tf.train.GradientDescentOptimizer(0.1).minimize(loss)\n",
    "\n",
    "    init = tf.global_variables_initializer()\n",
    "    with tf.Session() as session:\n",
    "        session.run(init)\n",
    "        \n",
    "        feed_dict = {x: x_batch, y:y_batch}\n",
    "        for _ in range(30):\n",
    "            loss_val, _ = session.run([loss, optimizer], feed_dict)\n",
    "            print('loss:', loss_val.mean())\n",
    "        \n",
    "        y_pred_batch = session.run(y_pred, {x: x_batch})\n",
    "    plt.figure(1)\n",
    "    plt.scatter(x_batch, y_batch)\n",
    "    plt.plot(x_batch, y_pred_batch)"
   ]
  },
  {
   "cell_type": "code",
   "execution_count": 33,
   "metadata": {},
   "outputs": [
    {
     "name": "stdout",
     "output_type": "stream",
     "text": [
      "loss: 2.8755486\n",
      "loss: 2.5110216\n",
      "loss: 2.1943848\n",
      "loss: 1.9193462\n",
      "loss: 1.6804415\n",
      "loss: 1.4729229\n",
      "loss: 1.2926674\n",
      "loss: 1.136093\n",
      "loss: 1.0000888\n",
      "loss: 0.8819523\n",
      "loss: 0.779336\n",
      "loss: 0.6902011\n",
      "loss: 0.6127764\n",
      "loss: 0.5455234\n",
      "loss: 0.48710585\n",
      "loss: 0.43636295\n",
      "loss: 0.39228648\n",
      "loss: 0.35400057\n",
      "loss: 0.3207445\n",
      "loss: 0.29185754\n",
      "loss: 0.2667656\n",
      "loss: 0.24497013\n",
      "loss: 0.22603807\n",
      "loss: 0.20959322\n",
      "loss: 0.19530885\n",
      "loss: 0.18290108\n",
      "loss: 0.1721234\n",
      "loss: 0.16276164\n",
      "loss: 0.15462981\n",
      "loss: 0.14756632\n"
     ]
    },
    {
     "data": {
      "image/png": "[encoded data removed]",
      "text/plain": [
       "<Figure size 432x288 with 1 Axes>"
      ]
     },
     "metadata": {},
     "output_type": "display_data"
    }
   ],
   "source": [
    "run()"
   ]
  },
  {
   "cell_type": "markdown",
   "metadata": {},
   "source": [
    "### word2vecモデル"
   ]
  },
  {
   "cell_type": "code",
   "execution_count": 36,
   "metadata": {},
   "outputs": [],
   "source": [
    "import math\n",
    "batch_size = 128\n",
    "vocabulary_size = 50000\n",
    "embedding_size = 128\n",
    "num_sampled = 64"
   ]
  },
  {
   "cell_type": "code",
   "execution_count": 40,
   "metadata": {},
   "outputs": [],
   "source": [
    "def skipgram():\n",
    "    batch_inputs = tf.placeholder(tf.int32, shape=[batch_size,])\n",
    "    batch_labels = tf.placeholder(tf.int32, shape=[batch_size, 1])\n",
    "    val_dataset = tf.constant(val_data, dtype=tf.int32)\n",
    "    \n",
    "    with tf.variable_scope(\"word2vec\") as scope:\n",
    "        embeddings = tf.Variable(tf.random_uniform([vocabulary_size,\n",
    "                                                    embedding_size],\n",
    "                                                  -1.0, 1.0))\n",
    "        # Variableの一部のみ学習させたいときに使用。ここではバッチ内の重みだけ学習するようにしている\n",
    "        batch_embeddings = tf.nn.embedding_lookup(embeddings, batch_inputs)\n",
    "        \n",
    "        # 重みは切断正規分布を使う\n",
    "        weights = tf.Variable(tf.truncated_normal([vocabulary_size,\n",
    "                                                   embedding_size],\n",
    "                                                   stddev = 1.0/math.sqrt(embedding_size)))\n",
    "        biases = tf.Variable(tf.zeros([vocabulary_size]))\n",
    "        \n",
    "        loss = tf.reduce_mean(tf.nn.nec_loss(weights=weights,\n",
    "                                             biases=biases,\n",
    "                                             labels=batch_labels,\n",
    "                                             inputs=batch_inputs,\n",
    "                                             num_sampled=num_sampled,\n",
    "                                             num_classes=vocabulary_size))\n",
    "        norm = tf.sqrt(tf.reduce_mean(tf.square(embeddings), 1, keep_dims=True))\n",
    "        normalized_embeddings = embeddings / norm\n",
    "        \n",
    "        val_embeddings = tf.nn.embedding_lookup(normalized_embeddings, val_dataset)\n",
    "        similarity = tf.matmul(val_embeddings, normalized_embeddings, loss, similarity)\n",
    "        return batch_inputs, batch_labels, normalized_embeddings, loss, similarity"
   ]
  },
  {
   "cell_type": "code",
   "execution_count": 41,
   "metadata": {},
   "outputs": [],
   "source": [
    "def run():\n",
    "    batch_inputs, batch_labels, normalized_embeddings, loss, similarity = skipgram()\n",
    "    optimizer = tf.train.GradientDescentOptimizer(1.0).minimize(loss)\n",
    "    \n",
    "    init = tf.global_variables_initializer()\n",
    "    with tf.Session() as sess:\n",
    "        sess.run(init)\n",
    "        \n",
    "        average_loss = 0.0\n",
    "        for step, batch_data in enumerate(train_data):\n",
    "            inputs, labels = batch_data\n",
    "            feed_dict = {batch_inputs: inputs, batch_labels: labels}\n",
    "            \n",
    "            _, loss_val = session.run([optimizer, loss], feed_dict)\n",
    "            average_loss += loss_val\n",
    "            if step % 1000 == 0:\n",
    "                if step > 0:\n",
    "                    average_loss /= 1000\n",
    "                print('loss at iter', step, ':', average_loss)\n",
    "                average_loss = 0\n",
    "                \n",
    "            if step % 5000 == 0:\n",
    "                sim = similarity.eval()\n",
    "                for i in range(len(val_data)):  # 多分講義ではpython2系で実装してる？\n",
    "                    top_k = 8\n",
    "                    nearest = (sim[i,:]).argsort()[1:top_k-1]\n",
    "                    print_closest_words(val_data[i], nearst)"
   ]
  },
  {
   "cell_type": "code",
   "execution_count": null,
   "metadata": {},
   "outputs": [],
   "source": [
    "final"
   ]
  }
 ],
 "metadata": {
  "kernelspec": {
   "display_name": "Python 3",
   "language": "python",
   "name": "python3"
  },
  "language_info": {
   "codemirror_mode": {
    "name": "ipython",
    "version": 3
   },
   "file_extension": ".py",
   "mimetype": "text/x-python",
   "name": "python",
   "nbconvert_exporter": "python",
   "pygments_lexer": "ipython3",
   "version": "3.6.5"
  }
 },
 "nbformat": 4,
 "nbformat_minor": 2
}
